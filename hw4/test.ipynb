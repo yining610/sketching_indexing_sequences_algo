{
 "cells": [
  {
   "cell_type": "code",
   "execution_count": 1,
   "metadata": {},
   "outputs": [],
   "source": [
    "sequence = \"abcabcabcabcabc$\"\n",
    "\n",
    "permutations = []\n",
    "for i in range(len(sequence)):\n",
    "    permutations.append(sequence[i:] + sequence[:i])"
   ]
  },
  {
   "cell_type": "code",
   "execution_count": 2,
   "metadata": {},
   "outputs": [
    {
     "data": {
      "text/plain": [
       "['abcabcabcabcabc$',\n",
       " 'bcabcabcabcabc$a',\n",
       " 'cabcabcabcabc$ab',\n",
       " 'abcabcabcabc$abc',\n",
       " 'bcabcabcabc$abca',\n",
       " 'cabcabcabc$abcab',\n",
       " 'abcabcabc$abcabc',\n",
       " 'bcabcabc$abcabca',\n",
       " 'cabcabc$abcabcab',\n",
       " 'abcabc$abcabcabc',\n",
       " 'bcabc$abcabcabca',\n",
       " 'cabc$abcabcabcab',\n",
       " 'abc$abcabcabcabc',\n",
       " 'bc$abcabcabcabca',\n",
       " 'c$abcabcabcabcab',\n",
       " '$abcabcabcabcabc']"
      ]
     },
     "execution_count": 2,
     "metadata": {},
     "output_type": "execute_result"
    }
   ],
   "source": [
    "permutations"
   ]
  },
  {
   "cell_type": "code",
   "execution_count": 3,
   "metadata": {},
   "outputs": [
    {
     "data": {
      "text/plain": [
       "['$abcabcabcabcabc',\n",
       " 'abc$abcabcabcabc',\n",
       " 'abcabc$abcabcabc',\n",
       " 'abcabcabc$abcabc',\n",
       " 'abcabcabcabc$abc',\n",
       " 'abcabcabcabcabc$',\n",
       " 'bc$abcabcabcabca',\n",
       " 'bcabc$abcabcabca',\n",
       " 'bcabcabc$abcabca',\n",
       " 'bcabcabcabc$abca',\n",
       " 'bcabcabcabcabc$a',\n",
       " 'c$abcabcabcabcab',\n",
       " 'cabc$abcabcabcab',\n",
       " 'cabcabc$abcabcab',\n",
       " 'cabcabcabc$abcab',\n",
       " 'cabcabcabcabc$ab']"
      ]
     },
     "execution_count": 3,
     "metadata": {},
     "output_type": "execute_result"
    }
   ],
   "source": [
    "sorted(permutations)"
   ]
  },
  {
   "cell_type": "code",
   "execution_count": null,
   "metadata": {},
   "outputs": [],
   "source": []
  }
 ],
 "metadata": {
  "kernelspec": {
   "display_name": "nlp_class",
   "language": "python",
   "name": "nlp_class"
  },
  "orig_nbformat": 4
 },
 "nbformat": 4,
 "nbformat_minor": 2
}
